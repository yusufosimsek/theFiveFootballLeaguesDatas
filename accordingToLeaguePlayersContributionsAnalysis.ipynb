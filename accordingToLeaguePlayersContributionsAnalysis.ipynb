{
 "cells": [
  {
   "cell_type": "code",
   "execution_count": 71,
   "id": "37572b3d-dc98-4d51-97aa-cd62aee90cfd",
   "metadata": {},
   "outputs": [],
   "source": [
    "import numpy as np\n",
    "import pandas as pd\n",
    "import matplotlib.pyplot as plt\n",
    "import seaborn as sns\n",
    "## We called our libraries.\n",
    "\n",
    "dataSet = pd.read_csv(\"datasOfLeagues.csv\", sep = \";\", encoding=\"latin-1\")\n",
    "## We called our dataset\n",
    "\n",
    "dataSetDF = pd.DataFrame(dataSet)\n",
    "## We made dataframe."
   ]
  },
  {
   "cell_type": "code",
   "execution_count": 72,
   "id": "03ca4340-5ebc-43e3-b2ad-9c8c02805767",
   "metadata": {},
   "outputs": [
    {
     "name": "stdout",
     "output_type": "stream",
     "text": [
      "  Country   League   Club       Player Names  Matches_Played  Substitution   \\\n",
      "0   Spain  La Liga  (BET)    Juanmi Callejon              19             16   \n",
      "1   Spain  La Liga  (BAR)  Antoine Griezmann              36              0   \n",
      "2   Spain  La Liga  (ATL)        Luis Suarez              34              1   \n",
      "3   Spain  La Liga  (CAR)       Ruben Castro              32              3   \n",
      "4   Spain  La Liga  (VAL)      Kevin Gameiro              21             10   \n",
      "\n",
      "   Mins  Goals      xG xG Per Avg Match  Shots  OnTarget Shots Per Avg Match  \\\n",
      "0  1849     11  Haz.62             0.34     48        20              Þub.47   \n",
      "1  3129     16  Kas.86             0.36     88        41              Þub.67   \n",
      "2  2940     28   23.21             0.75    120        57              Mar.88   \n",
      "3  2842     13  14.Haz             0.47    117        42              Mar.91   \n",
      "4  1745     13  Eki.65             0.58     50        23              Þub.72   \n",
      "\n",
      "  On Target Per Avg Match  Year  \n",
      "0                   1.Mar  2016  \n",
      "1                  Oca.24  2016  \n",
      "2                  Oca.84  2016  \n",
      "3                   1.Nis  2016  \n",
      "4                  Oca.25  2016  \n"
     ]
    }
   ],
   "source": [
    "## I want to see column names.\n",
    "\n",
    "print(dataSetDF.head())"
   ]
  },
  {
   "cell_type": "code",
   "execution_count": 73,
   "id": "721cacf6-e2ac-4b90-850c-bc30d83d8af8",
   "metadata": {},
   "outputs": [
    {
     "name": "stdout",
     "output_type": "stream",
     "text": [
      "     Goals      xG\n",
      "0       11  Haz.62\n",
      "1       16  Kas.86\n",
      "2       28   23.21\n",
      "3       13  14.Haz\n",
      "4       13  Eki.65\n",
      "..     ...     ...\n",
      "655     10  Tem.49\n",
      "656     12  Eyl.77\n",
      "657      7  May.72\n",
      "658     15   14.51\n",
      "659      7  Nis.43\n",
      "\n",
      "[660 rows x 2 columns]\n"
     ]
    }
   ],
   "source": [
    "## I want to compare goals and xG ratios.\n",
    "\n",
    "print(dataSetDF[[\"Goals\", \"xG\"]])"
   ]
  },
  {
   "cell_type": "code",
   "execution_count": 74,
   "id": "d54a1b25-334f-43ca-8984-898fb5197175",
   "metadata": {},
   "outputs": [
    {
     "name": "stdout",
     "output_type": "stream",
     "text": [
      "   Min  Max       Mean  Median                               Mode       Std\n",
      "0    2   37  11.784848    11.0  0    11\n",
      "Name: Goals, dtype: int64  5.982454\n"
     ]
    }
   ],
   "source": [
    "## I want to look at base statistic in goals column\n",
    "\n",
    "minGoals = dataSetDF[\"Goals\"].min()\n",
    "maxGoals = dataSetDF[\"Goals\"].max()\n",
    "meanGoals = dataSetDF[\"Goals\"].mean()\n",
    "medianGoals = dataSetDF[\"Goals\"].median()\n",
    "modeGoals = dataSetDF[\"Goals\"].mode()\n",
    "stdGoals = dataSetDF[\"Goals\"].std()\n",
    "\n",
    "## I want to see all the base results in a dataframe.\n",
    "\n",
    "statsGoalsDF = pd.DataFrame({\n",
    "    \"Min\" : [minGoals],\n",
    "    \"Max\" : [maxGoals],\n",
    "    \"Mean\" : [meanGoals],\n",
    "    \"Median\" : [medianGoals],\n",
    "    \"Mode\" : [modeGoals],\n",
    "    \"Std\" : [stdGoals]\n",
    "})\n",
    "print(statsGoalsDF)"
   ]
  },
  {
   "cell_type": "code",
   "execution_count": 75,
   "id": "a3fc05c5-2c69-4109-a74b-27d925811eae",
   "metadata": {},
   "outputs": [
    {
     "name": "stdout",
     "output_type": "stream",
     "text": [
      "   Min  Max       Mean  Median  Mode       Std\n",
      "0    2   37  11.784848    11.0    11  5.982454\n"
     ]
    }
   ],
   "source": [
    "statsGoals_df = pd.DataFrame({\n",
    "    'Min': [dataSetDF['Goals'].min()],\n",
    "    'Max': [dataSetDF['Goals'].max()],\n",
    "    'Mean': [dataSetDF['Goals'].mean()],\n",
    "    'Median': [dataSetDF['Goals'].median()],\n",
    "    'Mode': [dataSetDF['Goals'].mode().iloc[0]],\n",
    "    'Std': [dataSetDF['Goals'].std()]\n",
    "})\n",
    "\n",
    "print(statsGoals_df)"
   ]
  },
  {
   "cell_type": "code",
   "execution_count": 76,
   "id": "c4c75848-ff6b-4228-b32e-2fbc084b9c29",
   "metadata": {},
   "outputs": [],
   "source": [
    "## Mean, mode, and median almost equal. We can say we have normal distribution. \n",
    "## Std value is not much. We can say in the five biggest football league, goals are balanced."
   ]
  },
  {
   "cell_type": "code",
   "execution_count": 77,
   "id": "db118b93-80c3-4eb3-be52-51f0911b914f",
   "metadata": {},
   "outputs": [
    {
     "name": "stdout",
     "output_type": "stream",
     "text": [
      "    Min    Max       Mean  Median   Mode       Std\n",
      "0  0.71  32.54  16.882973  15.965  14.51  5.303188\n"
     ]
    }
   ],
   "source": [
    "## I want to look at xG base statistical values.\n",
    "dataSetDF[\"xG\"] = pd.to_numeric(dataSetDF[\"xG\"], errors = \"coerce\")\n",
    "\n",
    "\n",
    "minxG = dataSetDF[\"xG\"].min()\n",
    "maxxG = dataSetDF[\"xG\"].max()\n",
    "meanxG = dataSetDF[\"xG\"].mean()\n",
    "medianxG = dataSetDF[\"xG\"].median()\n",
    "modexG = dataSetDF[\"xG\"].mode()\n",
    "stdxG = dataSetDF[\"xG\"].std()\n",
    "\n",
    "statsxG_df = pd.DataFrame({\n",
    "    'Min': [dataSetDF['xG'].min()],\n",
    "    'Max': [dataSetDF['xG'].max()],\n",
    "    'Mean': [dataSetDF['xG'].mean()],\n",
    "    'Median': [dataSetDF['xG'].median()],\n",
    "    'Mode': [dataSetDF['xG'].mode().iloc[0]],\n",
    "    'Std': [dataSetDF['xG'].std()]\n",
    "})\n",
    "\n",
    "print(statsxG_df)"
   ]
  },
  {
   "cell_type": "code",
   "execution_count": 78,
   "id": "b619f1b5-d3d5-436c-96e9-e66537c64961",
   "metadata": {},
   "outputs": [],
   "source": [
    "## Mean, median and mode have different numbers. So, xG values have anormal distrubiton according to Goals."
   ]
  },
  {
   "cell_type": "code",
   "execution_count": 79,
   "id": "e83e883a-74a8-4d07-8b2c-6942331be078",
   "metadata": {},
   "outputs": [
    {
     "name": "stdout",
     "output_type": "stream",
     "text": [
      "196.9902090649602\n",
      "318.3551409630528\n"
     ]
    }
   ],
   "source": [
    "## Now I will look at the CV value the two values. Then, I will make a correlation.\n",
    "\n",
    "goalsCV = (meanGoals/stdGoals) * 100\n",
    "xGCV = (meanxG/stdxG) * 100\n",
    "\n",
    "print(goalsCV)\n",
    "print(xGCV)"
   ]
  },
  {
   "cell_type": "code",
   "execution_count": 80,
   "id": "ce2aad8b-368a-4377-95a6-45a0c2bf7f40",
   "metadata": {},
   "outputs": [
    {
     "data": {
      "text/html": [
       "<div>\n",
       "<style scoped>\n",
       "    .dataframe tbody tr th:only-of-type {\n",
       "        vertical-align: middle;\n",
       "    }\n",
       "\n",
       "    .dataframe tbody tr th {\n",
       "        vertical-align: top;\n",
       "    }\n",
       "\n",
       "    .dataframe thead th {\n",
       "        text-align: right;\n",
       "    }\n",
       "</style>\n",
       "<table border=\"1\" class=\"dataframe\">\n",
       "  <thead>\n",
       "    <tr style=\"text-align: right;\">\n",
       "      <th></th>\n",
       "      <th>0</th>\n",
       "    </tr>\n",
       "  </thead>\n",
       "  <tbody>\n",
       "    <tr>\n",
       "      <th>0</th>\n",
       "      <td>1.0</td>\n",
       "    </tr>\n",
       "  </tbody>\n",
       "</table>\n",
       "</div>"
      ],
      "text/plain": [
       "     0\n",
       "0  1.0"
      ]
     },
     "execution_count": 80,
     "metadata": {},
     "output_type": "execute_result"
    }
   ],
   "source": [
    "## We can say, xG is more distributer than Goals.\n",
    "\n",
    "## We will make control the two columns have a correlation between self.\n",
    "\n",
    "## The two columns have numerical mean. mode, median, and mean values near. So we can say that, the two columns are normal.\n",
    "## Therefor we will make Pearson correlation.\n",
    "\n",
    "xGGoals = pd.DataFrame(dataSetDF[[\"Goals\", \"xG\"]].isna().sum())\n",
    "\n",
    "corGoalsXG = xGGoals.corr()\n",
    "corGoalsXG"
   ]
  },
  {
   "cell_type": "code",
   "execution_count": 81,
   "id": "933d0d49-b42a-4559-b9f6-042ab4b0c3a9",
   "metadata": {},
   "outputs": [],
   "source": [
    "## We have powerfull positive relation xG values and Goals values.\n",
    "## So the leagues footballer can make score as expected values as."
   ]
  },
  {
   "cell_type": "code",
   "execution_count": 83,
   "id": "e21ef019-2fbd-4c82-973f-aa8017378b49",
   "metadata": {},
   "outputs": [
    {
     "data": {
      "image/png": "[encoded data removed]",
      "text/plain": [
       "<Figure size 600x400 with 2 Axes>"
      ]
     },
     "metadata": {},
     "output_type": "display_data"
    }
   ],
   "source": [
    "plt.figure(figsize=(6, 4))\n",
    "sns.heatmap(corGoalsXG, annot = True, cmap = \"coolwarm\", vmin = -1, vmax = 1, center = 0)\n",
    "plt.title(\"Goals and xG Pearson Correlation Heatmap\")\n",
    "plt.show()"
   ]
  },
  {
   "cell_type": "code",
   "execution_count": 84,
   "id": "0e638218-e0a0-482b-853a-ecb8a4b3164c",
   "metadata": {},
   "outputs": [
    {
     "ename": "ValueError",
     "evalue": "Could not interpret value `Goals` for `x`. An entry with this name does not appear in `data`.",
     "output_type": "error",
     "traceback": [
      "\u001b[1;31m---------------------------------------------------------------------------\u001b[0m",
      "\u001b[1;31mValueError\u001b[0m                                Traceback (most recent call last)",
      "Cell \u001b[1;32mIn[84], line 2\u001b[0m\n\u001b[0;32m      1\u001b[0m plt\u001b[38;5;241m.\u001b[39mfigure(figsize\u001b[38;5;241m=\u001b[39m(\u001b[38;5;241m8\u001b[39m, \u001b[38;5;241m6\u001b[39m))\n\u001b[1;32m----> 2\u001b[0m sns\u001b[38;5;241m.\u001b[39mscatterplot(x\u001b[38;5;241m=\u001b[39m\u001b[38;5;124m\"\u001b[39m\u001b[38;5;124mGoals\u001b[39m\u001b[38;5;124m\"\u001b[39m, y\u001b[38;5;241m=\u001b[39m\u001b[38;5;124m\"\u001b[39m\u001b[38;5;124mxG\u001b[39m\u001b[38;5;124m\"\u001b[39m, data\u001b[38;5;241m=\u001b[39mxGGoals, alpha\u001b[38;5;241m=\u001b[39m\u001b[38;5;241m0.5\u001b[39m)\n\u001b[0;32m      3\u001b[0m plt\u001b[38;5;241m.\u001b[39mxlabel(\u001b[38;5;124m\"\u001b[39m\u001b[38;5;124mGoals\u001b[39m\u001b[38;5;124m\"\u001b[39m)\n\u001b[0;32m      4\u001b[0m plt\u001b[38;5;241m.\u001b[39mylabe(\u001b[38;5;124m\"\u001b[39m\u001b[38;5;124mxG\u001b[39m\u001b[38;5;124m\"\u001b[39m)\n",
      "File \u001b[1;32m~\\anaconda3\\Lib\\site-packages\\seaborn\\relational.py:615\u001b[0m, in \u001b[0;36mscatterplot\u001b[1;34m(data, x, y, hue, size, style, palette, hue_order, hue_norm, sizes, size_order, size_norm, markers, style_order, legend, ax, **kwargs)\u001b[0m\n\u001b[0;32m    606\u001b[0m \u001b[38;5;28;01mdef\u001b[39;00m\u001b[38;5;250m \u001b[39m\u001b[38;5;21mscatterplot\u001b[39m(\n\u001b[0;32m    607\u001b[0m     data\u001b[38;5;241m=\u001b[39m\u001b[38;5;28;01mNone\u001b[39;00m, \u001b[38;5;241m*\u001b[39m,\n\u001b[0;32m    608\u001b[0m     x\u001b[38;5;241m=\u001b[39m\u001b[38;5;28;01mNone\u001b[39;00m, y\u001b[38;5;241m=\u001b[39m\u001b[38;5;28;01mNone\u001b[39;00m, hue\u001b[38;5;241m=\u001b[39m\u001b[38;5;28;01mNone\u001b[39;00m, size\u001b[38;5;241m=\u001b[39m\u001b[38;5;28;01mNone\u001b[39;00m, style\u001b[38;5;241m=\u001b[39m\u001b[38;5;28;01mNone\u001b[39;00m,\n\u001b[1;32m   (...)\u001b[0m\n\u001b[0;32m    612\u001b[0m     \u001b[38;5;241m*\u001b[39m\u001b[38;5;241m*\u001b[39mkwargs\n\u001b[0;32m    613\u001b[0m ):\n\u001b[1;32m--> 615\u001b[0m     p \u001b[38;5;241m=\u001b[39m _ScatterPlotter(\n\u001b[0;32m    616\u001b[0m         data\u001b[38;5;241m=\u001b[39mdata,\n\u001b[0;32m    617\u001b[0m         variables\u001b[38;5;241m=\u001b[39m\u001b[38;5;28mdict\u001b[39m(x\u001b[38;5;241m=\u001b[39mx, y\u001b[38;5;241m=\u001b[39my, hue\u001b[38;5;241m=\u001b[39mhue, size\u001b[38;5;241m=\u001b[39msize, style\u001b[38;5;241m=\u001b[39mstyle),\n\u001b[0;32m    618\u001b[0m         legend\u001b[38;5;241m=\u001b[39mlegend\n\u001b[0;32m    619\u001b[0m     )\n\u001b[0;32m    621\u001b[0m     p\u001b[38;5;241m.\u001b[39mmap_hue(palette\u001b[38;5;241m=\u001b[39mpalette, order\u001b[38;5;241m=\u001b[39mhue_order, norm\u001b[38;5;241m=\u001b[39mhue_norm)\n\u001b[0;32m    622\u001b[0m     p\u001b[38;5;241m.\u001b[39mmap_size(sizes\u001b[38;5;241m=\u001b[39msizes, order\u001b[38;5;241m=\u001b[39msize_order, norm\u001b[38;5;241m=\u001b[39msize_norm)\n",
      "File \u001b[1;32m~\\anaconda3\\Lib\\site-packages\\seaborn\\relational.py:396\u001b[0m, in \u001b[0;36m_ScatterPlotter.__init__\u001b[1;34m(self, data, variables, legend)\u001b[0m\n\u001b[0;32m    387\u001b[0m \u001b[38;5;28;01mdef\u001b[39;00m\u001b[38;5;250m \u001b[39m\u001b[38;5;21m__init__\u001b[39m(\u001b[38;5;28mself\u001b[39m, \u001b[38;5;241m*\u001b[39m, data\u001b[38;5;241m=\u001b[39m\u001b[38;5;28;01mNone\u001b[39;00m, variables\u001b[38;5;241m=\u001b[39m{}, legend\u001b[38;5;241m=\u001b[39m\u001b[38;5;28;01mNone\u001b[39;00m):\n\u001b[0;32m    388\u001b[0m \n\u001b[0;32m    389\u001b[0m     \u001b[38;5;66;03m# TODO this is messy, we want the mapping to be agnostic about\u001b[39;00m\n\u001b[0;32m    390\u001b[0m     \u001b[38;5;66;03m# the kind of plot to draw, but for the time being we need to set\u001b[39;00m\n\u001b[0;32m    391\u001b[0m     \u001b[38;5;66;03m# this information so the SizeMapping can use it\u001b[39;00m\n\u001b[0;32m    392\u001b[0m     \u001b[38;5;28mself\u001b[39m\u001b[38;5;241m.\u001b[39m_default_size_range \u001b[38;5;241m=\u001b[39m (\n\u001b[0;32m    393\u001b[0m         np\u001b[38;5;241m.\u001b[39mr_[\u001b[38;5;241m.5\u001b[39m, \u001b[38;5;241m2\u001b[39m] \u001b[38;5;241m*\u001b[39m np\u001b[38;5;241m.\u001b[39msquare(mpl\u001b[38;5;241m.\u001b[39mrcParams[\u001b[38;5;124m\"\u001b[39m\u001b[38;5;124mlines.markersize\u001b[39m\u001b[38;5;124m\"\u001b[39m])\n\u001b[0;32m    394\u001b[0m     )\n\u001b[1;32m--> 396\u001b[0m     \u001b[38;5;28msuper\u001b[39m()\u001b[38;5;241m.\u001b[39m\u001b[38;5;21m__init__\u001b[39m(data\u001b[38;5;241m=\u001b[39mdata, variables\u001b[38;5;241m=\u001b[39mvariables)\n\u001b[0;32m    398\u001b[0m     \u001b[38;5;28mself\u001b[39m\u001b[38;5;241m.\u001b[39mlegend \u001b[38;5;241m=\u001b[39m legend\n",
      "File \u001b[1;32m~\\anaconda3\\Lib\\site-packages\\seaborn\\_base.py:634\u001b[0m, in \u001b[0;36mVectorPlotter.__init__\u001b[1;34m(self, data, variables)\u001b[0m\n\u001b[0;32m    629\u001b[0m \u001b[38;5;66;03m# var_ordered is relevant only for categorical axis variables, and may\u001b[39;00m\n\u001b[0;32m    630\u001b[0m \u001b[38;5;66;03m# be better handled by an internal axis information object that tracks\u001b[39;00m\n\u001b[0;32m    631\u001b[0m \u001b[38;5;66;03m# such information and is set up by the scale_* methods. The analogous\u001b[39;00m\n\u001b[0;32m    632\u001b[0m \u001b[38;5;66;03m# information for numeric axes would be information about log scales.\u001b[39;00m\n\u001b[0;32m    633\u001b[0m \u001b[38;5;28mself\u001b[39m\u001b[38;5;241m.\u001b[39m_var_ordered \u001b[38;5;241m=\u001b[39m {\u001b[38;5;124m\"\u001b[39m\u001b[38;5;124mx\u001b[39m\u001b[38;5;124m\"\u001b[39m: \u001b[38;5;28;01mFalse\u001b[39;00m, \u001b[38;5;124m\"\u001b[39m\u001b[38;5;124my\u001b[39m\u001b[38;5;124m\"\u001b[39m: \u001b[38;5;28;01mFalse\u001b[39;00m}  \u001b[38;5;66;03m# alt., used DefaultDict\u001b[39;00m\n\u001b[1;32m--> 634\u001b[0m \u001b[38;5;28mself\u001b[39m\u001b[38;5;241m.\u001b[39massign_variables(data, variables)\n\u001b[0;32m    636\u001b[0m \u001b[38;5;66;03m# TODO Lots of tests assume that these are called to initialize the\u001b[39;00m\n\u001b[0;32m    637\u001b[0m \u001b[38;5;66;03m# mappings to default values on class initialization. I'd prefer to\u001b[39;00m\n\u001b[0;32m    638\u001b[0m \u001b[38;5;66;03m# move away from that and only have a mapping when explicitly called.\u001b[39;00m\n\u001b[0;32m    639\u001b[0m \u001b[38;5;28;01mfor\u001b[39;00m var \u001b[38;5;129;01min\u001b[39;00m [\u001b[38;5;124m\"\u001b[39m\u001b[38;5;124mhue\u001b[39m\u001b[38;5;124m\"\u001b[39m, \u001b[38;5;124m\"\u001b[39m\u001b[38;5;124msize\u001b[39m\u001b[38;5;124m\"\u001b[39m, \u001b[38;5;124m\"\u001b[39m\u001b[38;5;124mstyle\u001b[39m\u001b[38;5;124m\"\u001b[39m]:\n",
      "File \u001b[1;32m~\\anaconda3\\Lib\\site-packages\\seaborn\\_base.py:679\u001b[0m, in \u001b[0;36mVectorPlotter.assign_variables\u001b[1;34m(self, data, variables)\u001b[0m\n\u001b[0;32m    674\u001b[0m \u001b[38;5;28;01melse\u001b[39;00m:\n\u001b[0;32m    675\u001b[0m     \u001b[38;5;66;03m# When dealing with long-form input, use the newer PlotData\u001b[39;00m\n\u001b[0;32m    676\u001b[0m     \u001b[38;5;66;03m# object (internal but introduced for the objects interface)\u001b[39;00m\n\u001b[0;32m    677\u001b[0m     \u001b[38;5;66;03m# to centralize / standardize data consumption logic.\u001b[39;00m\n\u001b[0;32m    678\u001b[0m     \u001b[38;5;28mself\u001b[39m\u001b[38;5;241m.\u001b[39minput_format \u001b[38;5;241m=\u001b[39m \u001b[38;5;124m\"\u001b[39m\u001b[38;5;124mlong\u001b[39m\u001b[38;5;124m\"\u001b[39m\n\u001b[1;32m--> 679\u001b[0m     plot_data \u001b[38;5;241m=\u001b[39m PlotData(data, variables)\n\u001b[0;32m    680\u001b[0m     frame \u001b[38;5;241m=\u001b[39m plot_data\u001b[38;5;241m.\u001b[39mframe\n\u001b[0;32m    681\u001b[0m     names \u001b[38;5;241m=\u001b[39m plot_data\u001b[38;5;241m.\u001b[39mnames\n",
      "File \u001b[1;32m~\\anaconda3\\Lib\\site-packages\\seaborn\\_core\\data.py:58\u001b[0m, in \u001b[0;36mPlotData.__init__\u001b[1;34m(self, data, variables)\u001b[0m\n\u001b[0;32m     51\u001b[0m \u001b[38;5;28;01mdef\u001b[39;00m\u001b[38;5;250m \u001b[39m\u001b[38;5;21m__init__\u001b[39m(\n\u001b[0;32m     52\u001b[0m     \u001b[38;5;28mself\u001b[39m,\n\u001b[0;32m     53\u001b[0m     data: DataSource,\n\u001b[0;32m     54\u001b[0m     variables: \u001b[38;5;28mdict\u001b[39m[\u001b[38;5;28mstr\u001b[39m, VariableSpec],\n\u001b[0;32m     55\u001b[0m ):\n\u001b[0;32m     57\u001b[0m     data \u001b[38;5;241m=\u001b[39m handle_data_source(data)\n\u001b[1;32m---> 58\u001b[0m     frame, names, ids \u001b[38;5;241m=\u001b[39m \u001b[38;5;28mself\u001b[39m\u001b[38;5;241m.\u001b[39m_assign_variables(data, variables)\n\u001b[0;32m     60\u001b[0m     \u001b[38;5;28mself\u001b[39m\u001b[38;5;241m.\u001b[39mframe \u001b[38;5;241m=\u001b[39m frame\n\u001b[0;32m     61\u001b[0m     \u001b[38;5;28mself\u001b[39m\u001b[38;5;241m.\u001b[39mnames \u001b[38;5;241m=\u001b[39m names\n",
      "File \u001b[1;32m~\\anaconda3\\Lib\\site-packages\\seaborn\\_core\\data.py:232\u001b[0m, in \u001b[0;36mPlotData._assign_variables\u001b[1;34m(self, data, variables)\u001b[0m\n\u001b[0;32m    230\u001b[0m     \u001b[38;5;28;01melse\u001b[39;00m:\n\u001b[0;32m    231\u001b[0m         err \u001b[38;5;241m+\u001b[39m\u001b[38;5;241m=\u001b[39m \u001b[38;5;124m\"\u001b[39m\u001b[38;5;124mAn entry with this name does not appear in `data`.\u001b[39m\u001b[38;5;124m\"\u001b[39m\n\u001b[1;32m--> 232\u001b[0m     \u001b[38;5;28;01mraise\u001b[39;00m \u001b[38;5;167;01mValueError\u001b[39;00m(err)\n\u001b[0;32m    234\u001b[0m \u001b[38;5;28;01melse\u001b[39;00m:\n\u001b[0;32m    235\u001b[0m \n\u001b[0;32m    236\u001b[0m     \u001b[38;5;66;03m# Otherwise, assume the value somehow represents data\u001b[39;00m\n\u001b[0;32m    237\u001b[0m \n\u001b[0;32m    238\u001b[0m     \u001b[38;5;66;03m# Ignore empty data structures\u001b[39;00m\n\u001b[0;32m    239\u001b[0m     \u001b[38;5;28;01mif\u001b[39;00m \u001b[38;5;28misinstance\u001b[39m(val, Sized) \u001b[38;5;129;01mand\u001b[39;00m \u001b[38;5;28mlen\u001b[39m(val) \u001b[38;5;241m==\u001b[39m \u001b[38;5;241m0\u001b[39m:\n",
      "\u001b[1;31mValueError\u001b[0m: Could not interpret value `Goals` for `x`. An entry with this name does not appear in `data`."
     ]
    },
    {
     "data": {
      "text/plain": [
       "<Figure size 800x600 with 0 Axes>"
      ]
     },
     "metadata": {},
     "output_type": "display_data"
    }
   ],
   "source": [
    "dataSetDF[\"xG\"] = pd.to_numeric(dataSetDF[\"xG\"], errors=\"coerce\")\n",
    "clean = dataSetDF[[\"Goals\", \"xG\"]].dropna()\n",
    "\n",
    "\n",
    "plt.figure(figsize=(8, 6))\n",
    "sns.scatterplot(x=\"Goals\", y=\"xG\", data=xGGoals, alpha=0.5)\n",
    "plt.xlabel(\"Goals\")\n",
    "plt.ylabe(\"xG\")\n",
    "plt.title(\"xG and Goals Correlation Distribution Graph\")\n",
    "plt.grid(True)\n",
    "plt.show()"
   ]
  },
  {
   "cell_type": "code",
   "execution_count": null,
   "id": "a3d44e06-11fb-41b2-bd47-361b2fcc740b",
   "metadata": {},
   "outputs": [],
   "source": []
  }
 ],
 "metadata": {
  "kernelspec": {
   "display_name": "Python [conda env:base] *",
   "language": "python",
   "name": "conda-base-py"
  },
  "language_info": {
   "codemirror_mode": {
    "name": "ipython",
    "version": 3
   },
   "file_extension": ".py",
   "mimetype": "text/x-python",
   "name": "python",
   "nbconvert_exporter": "python",
   "pygments_lexer": "ipython3",
   "version": "3.13.5"
  }
 },
 "nbformat": 4,
 "nbformat_minor": 5
}
